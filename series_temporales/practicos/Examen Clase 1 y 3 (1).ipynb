{
 "cells": [
  {
   "cell_type": "markdown",
   "metadata": {
    "id": "fPg5_mFzz49P"
   },
   "source": [
    "# Series de tiempo en finanzas\n",
    "### Entregable clase 1 y 2: Vale para media materia!!"
   ]
  },
  {
   "cell_type": "markdown",
   "metadata": {
    "id": "bbauLq5ez49X"
   },
   "source": [
    "Para aprobar hay que entregar Notebooks con la informacion pedida, comentada para su analisis. \n",
    "\n",
    "Notebook Clase 1:\n",
    "Se pretende el entendimiento de la visualización y curación de una serie de tiempo. \n",
    "\n",
    "Notebook Clase 2:\n",
    "Se pretende estudiar descomposiciones en tendencia, estacionalidad y proceso aleatorio. Usar suavizado exponenciar para predecir la serie de acuerdo a la descomposicion observada.\n",
    "\n"
   ]
  },
  {
   "cell_type": "markdown",
   "metadata": {
    "id": "sBTENrrNz49Y"
   },
   "source": [
    "## Entregable clase 1:"
   ]
  },
  {
   "cell_type": "markdown",
   "metadata": {
    "id": "vK2-lBYRz49Z"
   },
   "source": [
    "### Exploración de la demanda eléctrica con Python"
   ]
  },
  {
   "cell_type": "markdown",
   "metadata": {
    "id": "SLrLfEFoz49a"
   },
   "source": [
    " ### Problema 1:\n",
    " \n",
    "- Objetivo de este problema: La figura de boxplot de demanda de energía diaria muestra en forma equivocada el eje horario, por lo cual lleva a concluir que de noche la demanda de energia es maxima. Por lo cual es necesario corregirlo. \n",
    "\n",
    "- Una forma es modificar la figura, corrigiendo los ejes. Eso deja el resto de la notebook sin modificar (levemente... hay que pasar de dato cada 30 min a dato horario...). \n",
    "\n",
    "- La segunda es convertir la zona horaria a Australia/Victoria. Usando **pandas.Series.dt.tz** puede cambiar la zona horaria, como en el siguiente ejemplo\n",
    "\n"
   ]
  },
  {
   "cell_type": "code",
   "execution_count": null,
   "metadata": {
    "id": "M5u8R-1Tz49i"
   },
   "outputs": [],
   "source": [
    "#ejemplo de código posible.... no chequeado para toda la notebook\n",
    "\n",
    "datos['Time'] = pd.to_datetime(datos['Time'], format='%Y-%m-%dT%H:%M:%SZ')\n",
    "datos['Time'] = datos['Time'].dt.tz_localize('UTC')\n",
    "datos['Time'] = datos['Time'].dt.tz_convert('Australia/Victoria')\n",
    "datos = datos.set_index('Time')\n",
    "datos = datos.asfreq('30min')\n",
    "datos = datos.sort_index()"
   ]
  },
  {
   "cell_type": "markdown",
   "metadata": {},
   "source": [
    "- Su tarea es corregir la zona horaria y correr TODA la notebook con esa corrección, verificando que no haya ambiguedades en las definiciones necesarias para plotear las estacionalidades mensuales y semanales. Como la cantidad de datos es muy grande, las estacionalidades se observan via boxplot."
   ]
  },
  {
   "cell_type": "code",
   "execution_count": 1,
   "metadata": {
    "ExecuteTime": {
     "end_time": "2022-03-31T18:47:25.656269Z",
     "start_time": "2022-03-31T18:47:23.842763Z"
    }
   },
   "outputs": [],
   "source": [
    "# Tratamiento de datos\n",
    "# ==============================================================================\n",
    "import numpy as np\n",
    "import pandas as pd\n",
    "\n",
    "# Gráficos\n",
    "# ==============================================================================\n",
    "import matplotlib.pyplot as plt\n",
    "import seaborn as sns\n",
    "%matplotlib inline\n",
    "from statsmodels.graphics.tsaplots import plot_acf\n",
    "from statsmodels.graphics.tsaplots import plot_pacf\n",
    "\n",
    "\n",
    "# Configuración warnings\n",
    "# ==============================================================================\n",
    "import warnings\n",
    "warnings.filterwarnings('ignore')"
   ]
  },
  {
   "cell_type": "markdown",
   "metadata": {},
   "source": [
    "### Descarga de datos"
   ]
  },
  {
   "cell_type": "code",
   "execution_count": 2,
   "metadata": {},
   "outputs": [
    {
     "name": "stdout",
     "output_type": "stream",
     "text": [
      "<class 'pandas.core.frame.DataFrame'>\n",
      "RangeIndex: 52608 entries, 0 to 52607\n",
      "Data columns (total 5 columns):\n",
      " #   Column       Non-Null Count  Dtype  \n",
      "---  ------       --------------  -----  \n",
      " 0   Time         52608 non-null  object \n",
      " 1   Demand       52608 non-null  float64\n",
      " 2   Temperature  52608 non-null  float64\n",
      " 3   Date         52608 non-null  object \n",
      " 4   Holiday      52608 non-null  bool   \n",
      "dtypes: bool(1), float64(2), object(2)\n",
      "memory usage: 1.7+ MB\n"
     ]
    }
   ],
   "source": [
    "datos = pd.read_csv('../clase_1/Visualizacion Victoria energia electrica/vic_elec.csv', sep=',')\n",
    "datos.info()"
   ]
  },
  {
   "cell_type": "code",
   "execution_count": 3,
   "metadata": {
    "ExecuteTime": {
     "end_time": "2022-03-31T18:47:26.605802Z",
     "start_time": "2022-03-31T18:47:26.437211Z"
    }
   },
   "outputs": [],
   "source": [
    "# Conversión del formato fecha\n",
    "# ==============================================================================\n",
    "datos['Time'] = pd.to_datetime(datos['Time'], format='%Y-%m-%dT%H:%M:%SZ')\n",
    "datos = datos.set_index('Time')\n",
    "datos = datos.asfreq('30min')\n",
    "datos = datos.sort_index()"
   ]
  },
  {
   "cell_type": "markdown",
   "metadata": {},
   "source": [
    "Uno de los primeros análisis que hay que realizar al trabajar con series temporales es verificar si la serie está completa, esto es, no hay registros temporales faltantes o duplicados."
   ]
  },
  {
   "cell_type": "code",
   "execution_count": 4,
   "metadata": {
    "ExecuteTime": {
     "end_time": "2022-03-31T18:47:26.614599Z",
     "start_time": "2022-03-31T18:47:26.607956Z"
    }
   },
   "outputs": [
    {
     "data": {
      "text/plain": [
       "True"
      ]
     },
     "execution_count": 4,
     "metadata": {},
     "output_type": "execute_result"
    }
   ],
   "source": [
    "# Verificar que un índice temporal está completo\n",
    "# ==============================================================================\n",
    "(datos.index == pd.date_range(start=datos.index.min(),\n",
    "                              end=datos.index.max(),\n",
    "                              freq=datos.index.freq)).all()"
   ]
  },
  {
   "cell_type": "code",
   "execution_count": null,
   "metadata": {},
   "outputs": [],
   "source": []
  },
  {
   "cell_type": "markdown",
   "metadata": {
    "id": "q1AH-i9jz49l"
   },
   "source": [
    " ### Problema 2:\n",
    " \n",
    "- Objetivo de este problema: Estudiar la demanda mensual. Realice gráficos siguiendo la notebook **Visualizacion de datos de polucion de corea.ipynb** realice \n",
    "\n",
    "- Gráfico de radar\n",
    "\n",
    "- Gráfico de barra circular\n",
    "\n",
    "- Gráfico de ploteo radial\n",
    "\n",
    "Observe que Ud no tiene mas que una serie, por lo cual es como plotear para un solo distrito. "
   ]
  },
  {
   "cell_type": "markdown",
   "metadata": {},
   "source": [
    "# Entregable clase 2:"
   ]
  },
  {
   "cell_type": "markdown",
   "metadata": {},
   "source": [
    "### Exploración de la demanda eléctrica con Python"
   ]
  },
  {
   "cell_type": "markdown",
   "metadata": {},
   "source": [
    "### Problema 1:\n",
    " \n",
    "- Objetivo de este problema: Realizar descomposiciones en tendencia y estacionalidad de la serie original de demanda horaria,  de la serie de demanda mensual creada en el punto anterior y del zoom de demanda horaria ploteado.  Dar una opinion de lo observado."
   ]
  },
  {
   "cell_type": "markdown",
   "metadata": {},
   "source": [
    "### Problema 2:\n",
    " \n",
    "- Objetivo de este problema: Realizar suavizado exponencial, suavizado de Holt y suavizado de Holt-Winter para las tres series anteriores y hacer una prediccion de 24 steps (un mes en el caso horario, un año en el caso mensual ). \n",
    "\n",
    "- Encontrar los parámetros usando el set de validación y RMSE. \n",
    "\n",
    "- Predecir usando TODA la serie (train mas validacion) y comparar con TEST . \n",
    "\n",
    "- Pltear la serie completa y la prediccion para observar el comportamiento de cada uno de los suavizados.\n",
    "\n",
    "- Dar una opinion de la bondad del método para esta serie. \n"
   ]
  },
  {
   "cell_type": "code",
   "execution_count": null,
   "metadata": {},
   "outputs": [],
   "source": []
  }
 ],
 "metadata": {
  "colab": {
   "provenance": []
  },
  "kernelspec": {
   "display_name": "Python 3 (ipykernel)",
   "language": "python",
   "name": "python3"
  },
  "language_info": {
   "codemirror_mode": {
    "name": "ipython",
    "version": 3
   },
   "file_extension": ".py",
   "mimetype": "text/x-python",
   "name": "python",
   "nbconvert_exporter": "python",
   "pygments_lexer": "ipython3",
   "version": "3.9.12"
  }
 },
 "nbformat": 4,
 "nbformat_minor": 4
}
