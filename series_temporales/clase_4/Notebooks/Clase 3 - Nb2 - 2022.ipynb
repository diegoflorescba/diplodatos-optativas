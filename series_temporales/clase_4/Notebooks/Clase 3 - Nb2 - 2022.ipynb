{
 "cells": [
  {
   "cell_type": "code",
   "execution_count": null,
   "metadata": {},
   "outputs": [],
   "source": [
    "import pandas as pd\n",
    "import numpy as np\n",
    "\n",
    "from statsmodels.stats.diagnostic import acorr_ljungbox\n",
    "import statsmodels.tsa.api as smt\n",
    "import statsmodels.api as sm\n",
    "import scipy.stats as scs\n",
    "import statsmodels.stats as sms\n",
    "from statsmodels.tsa.ar_model import AutoReg, ar_select_order\n",
    "\n",
    "import matplotlib.pyplot as plt\n",
    "import matplotlib as mpl\n",
    "%matplotlib inline\n",
    "\n",
    "import quandl\n",
    "quandl.ApiConfig.api_key = \"q2DtgvtfT_ZV2DbsFyCF\""
   ]
  },
  {
   "cell_type": "code",
   "execution_count": null,
   "metadata": {},
   "outputs": [],
   "source": [
    "## La siguiente función puede utilizarse para analizar tres gráficos: la serie, la función \n",
    "## autocorrelación y la función de autocorrelación parcial\n",
    "\n",
    "def tsplot(y, lags=None, figsize=(15, 10), style='bmh', titulo = 'Time Series Analysis Plots'):\n",
    "    if not isinstance(y, pd.Series):\n",
    "        y = pd.Series(y)\n",
    "    with plt.style.context(style):    \n",
    "        fig = plt.figure(figsize=figsize)\n",
    "        #mpl.rcParams['font.family'] = 'Ubuntu Mono'\n",
    "        layout = (3, 2)\n",
    "        ts_ax = plt.subplot2grid(layout, (0, 0), colspan=2)\n",
    "        acf_ax = plt.subplot2grid(layout, (1, 0))\n",
    "        pacf_ax = plt.subplot2grid(layout, (1, 1))\n",
    "        #qq_ax = plt.subplot2grid(layout, (2, 0))\n",
    "        #pp_ax = plt.subplot2grid(layout, (2, 1))\n",
    "        \n",
    "        y.plot(ax=ts_ax)\n",
    "        ts_ax.set_title(titulo)\n",
    "        smt.graphics.plot_acf(y, lags=lags, ax=acf_ax, alpha=0.01)\n",
    "        smt.graphics.plot_pacf(y, lags=lags, ax=pacf_ax, alpha=0.01)\n",
    "        #sm.qqplot(y, line='s', ax=qq_ax)\n",
    "        #qq_ax.set_title('QQ Plot')        \n",
    "        #scs.probplot(y, sparams=(y.mean(), y.std()), plot=pp_ax)\n",
    "\n",
    "        plt.tight_layout()\n",
    "    return "
   ]
  },
  {
   "cell_type": "code",
   "execution_count": null,
   "metadata": {},
   "outputs": [],
   "source": [
    "# Un posible sitio para descargar series financieras es quandl.com, actualmente trasladado a nasdaq.com\n",
    "#El comando para descarga es quandl.get(). Algunas series son de libre descarga (Free), y otras \n",
    "#requieren un pago. (Premium)\n",
    "\n",
    "data = quandl.get(\"NSE/SPYL\", start_date=\"2011-01-12\", end_date=\"2013-01-01\")\n",
    "len(data)"
   ]
  },
  {
   "cell_type": "markdown",
   "metadata": {},
   "source": [
    "Otro data sets para series se puede obtener del sitio https://faculty.chicagobooth.edu/ruey-s-tsay/teaching\n",
    "\n",
    "Estas series fueron utilizadas en las diferentes ediciones del libro Analysis of Financial Time Series, de Ruey S. Tsay.\n",
    "\n",
    "- Monthly IBM stock, VW index, EW index and S&P index returns: m-ibm3dx2608.csv\n",
    "\n",
    "- Growth rate of U.S. quarterly real gnp: dgnp82.txt\n",
    "\n",
    "- Daily values of S&P 500 index: d-sp55008.csv\n",
    "\n",
    "- Monthly returns of VW index: VW_index_rets.csv\n",
    "\n",
    "- Weekly 1-yr & 3-yr interest rates: w-gs1yr.csv & w-gs3yr.csv\n",
    "\n",
    "- Monthly simple returns of Intel stock: Intel_returns.csv\n",
    "\n",
    "- 10-minute FX log returns (Mark-Dollar): FX_logret_Mark_Dollar.csv\n",
    "\n",
    "- Monthly excess returns of the S&P 500 index: S_P500_index.csv"
   ]
  },
  {
   "cell_type": "code",
   "execution_count": null,
   "metadata": {},
   "outputs": [],
   "source": [
    "rates_1yr = pd.read_csv(\"Data/w-gs1yr.csv\")\n",
    "rates_3yr = pd.read_csv(\"Data/w-gs3yr.csv\")\n",
    "\n",
    "IBM_VW_EW_SyP_index = pd.read_csv(\"Data/m-ibm3dx2608.csv\")\n",
    "IBM_VW_EW_SyP_index['date'] = pd.to_datetime(IBM_VW_EW_SyP_index['date'].astype(str), format ='%Y%m%d' )\n",
    "\n",
    "GNP = pd.read_csv(\"Data/dgnp82.csv\")\n",
    "S_P_index_d = pd.read_csv(\"Data/d-sp55008.csv\")\n",
    "S_P500_index = pd.read_csv(\"Data/S_P500_index.csv\")\n",
    "\n",
    "VW_Index_rets = pd.read_csv(\"Data/VW_Index_rets.csv\")\n",
    "\n",
    "FX_logret_mark_dollar = pd.read_csv(\"Data/FX_logret_Mark_Dollar.csv\")\n",
    "\n",
    "Intel_returns = pd.read_csv(\"Data/Intel_returns.csv\")\n",
    "Intel_returns['date'] = pd.to_datetime(Intel_returns['date'].astype(str), format='%Y%m%d')"
   ]
  },
  {
   "cell_type": "markdown",
   "metadata": {},
   "source": [
    "### Modelos autorregresivos de orden p $AR(p)$\n",
    "\n",
    "Es un modelo de regresión que depende linealmente de términos anteriores:\n",
    "$$x_t = \\phi_1x_{t-1}+…+\\phi_px_{t-p}+a_t = \\sum_{i=1}^{p} t_i\\phi_ix_{t-i}+a_t$$\n",
    "\n",
    "El orden \"p\" representa el número de términos anteriores (retardos) usados dentro del modelo. $\\phi_i$ es el coeficiente del retardo $i$ y $a_t$ es un ruido blanco.\n",
    "\n",
    "Un modelo AR(1) con $\\phi_1=1$ es una caminata aleatoria.\n",
    "\n",
    "Modelamos un AR(1) $\\phi$ igual a 0.6"
   ]
  },
  {
   "cell_type": "code",
   "execution_count": null,
   "metadata": {},
   "outputs": [],
   "source": [
    "\n",
    "# Simulamos un AR(1) con phi_1 = 0.6\n",
    "## Modificamos ph1_1=1, phi_1=1.01, phi_1=-0.3\n",
    "n = int(1000)\n",
    "phis = np.array([0.6])\n",
    "thetas = np.array([0.])\n",
    "\n",
    "# Python requiere especificar el valor de lag 0: 1\n",
    "# Notar que se ingresa -phi: coeficientes del polinomio autorregresivo.\n",
    "# Los coeficientes theta (del modelo MA) son 0 para un AR\n",
    "ar = np.r_[1, -phis]\n",
    "ma = np.r_[1, thetas]\n",
    "\n",
    "ar1 = smt.arma_generate_sample(ar=ar, ma=ma, nsample=n) \n",
    "_ = tsplot(ar1, lags=30, titulo = \"AR(1)\")"
   ]
  },
  {
   "cell_type": "markdown",
   "metadata": {},
   "source": [
    "Ajustamos la serie anterior a un AR(1). Observamos algunos resultados arrojados:\n",
    "\n",
    "- Tabla 1: Criterios de información, métodos de ajuste.\n",
    "- Tabla 2: Parámetros estimados. Media y desvío estándar.\n",
    "- Tabla 3: Raíces características."
   ]
  },
  {
   "cell_type": "code",
   "execution_count": null,
   "metadata": {},
   "outputs": [],
   "source": [
    "#Ajustamos la serie al modelo AR(1), utilizando AutoReg.\n",
    "mod = AutoReg(ar1, 1, old_names=False)\n",
    "res = mod.fit()\n",
    "\n",
    "print(res.summary())\n"
   ]
  },
  {
   "cell_type": "code",
   "execution_count": null,
   "metadata": {},
   "outputs": [],
   "source": [
    "## ajuste con SARIMAX\n",
    "mdl = sm.tsa.arima.ARIMA(x, order = (1,0,0))\n",
    "res = mdl.fit()\n",
    "print(res.summary())"
   ]
  },
  {
   "cell_type": "code",
   "execution_count": null,
   "metadata": {},
   "outputs": [],
   "source": [
    "##seleccionamos el orden del model AR.\n",
    "\n",
    "sel = ar_select_order(ar1, 8, glob=True, old_names=False)\n",
    "sel.ar_lags\n",
    "res = sel.model.fit()\n",
    "print(res.summary())"
   ]
  },
  {
   "cell_type": "code",
   "execution_count": null,
   "metadata": {},
   "outputs": [],
   "source": [
    "## Predicción: predice el último valor tomado.\n",
    "res.plot_predict(start=951, end=1010)\n",
    "plt.plot(ar1[950:1000])\n",
    "plt.show()"
   ]
  },
  {
   "cell_type": "markdown",
   "metadata": {},
   "source": [
    "### SIMULACIÓN DE UN PROCESO AR(2)\n",
    "\n",
    "$$ x_t = \\phi_1 x_{t-1} + \\phi_2 x_{t-2} + a_t$$"
   ]
  },
  {
   "cell_type": "code",
   "execution_count": null,
   "metadata": {},
   "outputs": [],
   "source": [
    "# Simulamos un AR(2) \n",
    "\n",
    "n = int(1000)\n",
    "phis = np.array([0.666, -0.333])\n",
    "thetas = np.array([0.])\n",
    "\n",
    "# Python requiere especificar el valor de lag 0: 1\n",
    "# Notar que se ingresa -phi: coeficientes del polinomio autorregresivo.\n",
    "# Los coeficientes theta (del modelo MA) son 0 para un AR\n",
    "ar = np.r_[1, -phis]\n",
    "ma = np.r_[1, thetas]\n",
    "\n",
    "ar2 = smt.arma_generate_sample(ar=ar, ma=ma, nsample=n) \n",
    "_ = tsplot(ar2, lags=30, titulo = \"AR(2)\")"
   ]
  },
  {
   "cell_type": "code",
   "execution_count": null,
   "metadata": {},
   "outputs": [],
   "source": [
    "mod = AutoReg(ar2, 2, old_names=False)\n",
    "res = mod.fit()\n",
    "\n",
    "print(res.summary())"
   ]
  },
  {
   "cell_type": "markdown",
   "metadata": {},
   "source": [
    "Hay una correlación significativa en los dos primeros retardos. Ver el PACF. Ajustamos los datos"
   ]
  },
  {
   "cell_type": "code",
   "execution_count": null,
   "metadata": {},
   "outputs": [],
   "source": [
    "mdl = sm.tsa.arima.ARIMA(ar2, order = (3,0,0))\n",
    "res = mdl.fit()\n",
    "print(res.summary())"
   ]
  },
  {
   "cell_type": "code",
   "execution_count": null,
   "metadata": {},
   "outputs": [],
   "source": [
    "sel = ar_select_order(x, 8, glob=True, old_names=False)\n",
    "sel.ar_lags\n",
    "res = sel.model.fit()\n",
    "print(res.summary())"
   ]
  },
  {
   "cell_type": "code",
   "execution_count": null,
   "metadata": {},
   "outputs": [],
   "source": []
  },
  {
   "cell_type": "code",
   "execution_count": null,
   "metadata": {},
   "outputs": [],
   "source": [
    "#data = VW_Index_rets[\"Retornos\"]\n",
    "#_ = tsplot(data, lags=20, titulo = \"VW INDEX\")\n",
    "\n",
    "data = S_P500_index[\"Monthly excess returns\"]\n",
    "_ = tsplot(data, lags=20, titulo = \"S&P INDEX\")"
   ]
  },
  {
   "cell_type": "code",
   "execution_count": null,
   "metadata": {},
   "outputs": [],
   "source": []
  },
  {
   "cell_type": "code",
   "execution_count": null,
   "metadata": {},
   "outputs": [],
   "source": [
    "sel = ar_select_order(data, 8, glob=True, old_names=False)\n",
    "sel.ar_lags\n",
    "res = sel.model.fit()\n",
    "print(res.summary())"
   ]
  },
  {
   "cell_type": "code",
   "execution_count": null,
   "metadata": {},
   "outputs": [],
   "source": [
    "mdl = sm.tsa.arima.ARIMA(data, order = (3,0,0))\n",
    "res = mdl.fit()\n",
    "print(res.summary())"
   ]
  },
  {
   "cell_type": "code",
   "execution_count": null,
   "metadata": {},
   "outputs": [],
   "source": [
    "sel = ar_select_order(data, 5, glob=True, old_names=False)\n",
    "sel.ar_lags\n",
    "res = sel.model.fit()\n",
    "print(res.summary())"
   ]
  },
  {
   "cell_type": "code",
   "execution_count": null,
   "metadata": {},
   "outputs": [],
   "source": [
    "\n",
    "res.predict(start = 751, end = 800).plot()\n",
    "plt.plot(data[750:])\n",
    "plt.show()"
   ]
  },
  {
   "cell_type": "code",
   "execution_count": null,
   "metadata": {},
   "outputs": [],
   "source": [
    "# Simulación de un ARIMA(2,1,1) con phis=[0.5,-0.25] and thetas=[-0.5]\n",
    "\n",
    "max_lag = 30\n",
    "\n",
    "n = int(2000)\n",
    "burn = 100\n",
    "\n",
    "phis = np.array([0.5,-0.25])\n",
    "thetas = np.array([-0.5])\n",
    "\n",
    "ar = np.r_[1, -phis]\n",
    "ma = np.r_[1, thetas]\n",
    "\n",
    "arma11 = smt.arma_generate_sample(ar=ar, ma=ma, nsample=n, burnin=burn)\n",
    "arima111 = arma11.cumsum()\n",
    "\n",
    "_ = tsplot(arima111, lags=max_lag, titulo = \"ARIMA(1,1,1)\")\n",
    "#_ = tsplot(arma11, lags=max_lag, titulo = \"ARMA(1,1)\")\n"
   ]
  },
  {
   "cell_type": "code",
   "execution_count": null,
   "metadata": {},
   "outputs": [],
   "source": []
  },
  {
   "cell_type": "code",
   "execution_count": null,
   "metadata": {},
   "outputs": [],
   "source": []
  },
  {
   "cell_type": "code",
   "execution_count": null,
   "metadata": {},
   "outputs": [],
   "source": [
    "sel = ar_select_order(arma11, 8, glob=True, old_names=False)\n",
    "sel.ar_lags\n",
    "res = sel.model.fit()\n",
    "print(res.summary())"
   ]
  },
  {
   "cell_type": "code",
   "execution_count": null,
   "metadata": {},
   "outputs": [],
   "source": [
    "# Ajuste a  ARIMA(p, d, q) \n",
    "# elección del mejor orden basado en aic\n",
    "\n",
    "best_aic = np.inf \n",
    "best_order = None\n",
    "best_mdl = None\n",
    "\n",
    "pq_rng = range(5) # [0,1,2,3,4]\n",
    "d_rng = range(2) # [0,1]\n",
    "for i in pq_rng:\n",
    "    for d in d_rng:\n",
    "        for j in pq_rng:\n",
    "            try:\n",
    "                tmp_mdl = sm.tsa.arima.ARIMA(arima111, order=(i,d,j)).fit()\n",
    "                tmp_aic = tmp_mdl.aic\n",
    "                if tmp_aic < best_aic:\n",
    "                    best_aic = tmp_aic\n",
    "                    best_order = (i, d, j)\n",
    "                    best_mdl = tmp_mdl\n",
    "            except: continue\n",
    "\n",
    "\n",
    "print('aic: %6.5f | order: %s'%(best_aic, best_order))\n",
    "\n",
    "# ARIMA model resid plot\n",
    "_ = tsplot(best_mdl.resid, lags=30, titulo = \"residuos\")"
   ]
  },
  {
   "cell_type": "code",
   "execution_count": null,
   "metadata": {},
   "outputs": [],
   "source": [
    "tmp_mdl = sm.tsa.arima.ARIMA(arima111, order=(1,1,1)).fit()\n",
    "print(tmp_mdl.summary())"
   ]
  },
  {
   "cell_type": "code",
   "execution_count": null,
   "metadata": {},
   "outputs": [],
   "source": [
    "_ = tsplot(tmp_mdl.resid, lags=30, titulo = \"residuos\")"
   ]
  },
  {
   "cell_type": "code",
   "execution_count": null,
   "metadata": {},
   "outputs": [],
   "source": []
  },
  {
   "cell_type": "code",
   "execution_count": null,
   "metadata": {},
   "outputs": [],
   "source": []
  }
 ],
 "metadata": {
  "kernelspec": {
   "display_name": "Python 3 (ipykernel)",
   "language": "python",
   "name": "python3"
  },
  "language_info": {
   "codemirror_mode": {
    "name": "ipython",
    "version": 3
   },
   "file_extension": ".py",
   "mimetype": "text/x-python",
   "name": "python",
   "nbconvert_exporter": "python",
   "pygments_lexer": "ipython3",
   "version": "3.9.12"
  }
 },
 "nbformat": 4,
 "nbformat_minor": 4
}
