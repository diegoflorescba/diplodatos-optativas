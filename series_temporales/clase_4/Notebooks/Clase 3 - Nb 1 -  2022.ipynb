{
 "cells": [
  {
   "cell_type": "code",
   "execution_count": null,
   "metadata": {},
   "outputs": [],
   "source": [
    "import pandas as pd\n",
    "import numpy as np\n",
    "\n",
    "import statsmodels.formula.api as smf\n",
    "import statsmodels.tsa.api as smt\n",
    "import statsmodels.api as sm\n",
    "import scipy.stats as scs\n",
    "from statsmodels.tsa.stattools import adfuller\n",
    "import matplotlib.pyplot as plt\n",
    "import datetime\n",
    "from datetime import datetime\n",
    "\n",
    "%matplotlib inline\n",
    "\n",
    "import quandl\n",
    "#quandl.ApiConfig.api_key = \"*****\""
   ]
  },
  {
   "cell_type": "code",
   "execution_count": null,
   "metadata": {},
   "outputs": [],
   "source": [
    "\n",
    "#mydata = quandl.get(\"FRED/GDP\", start_date=\"1947-01-01\", end_date=\"1974-01-01\")\n",
    "mydata = quandl.get(\"NSE/SPYL\", start_date=\"2011-01-12\", end_date=\"2013-01-01\")\n",
    "\n",
    "\n",
    "print(mydata)\n"
   ]
  },
  {
   "cell_type": "markdown",
   "metadata": {},
   "source": [
    "Otro data sets para series se puede obtener del sitio https://faculty.chicagobooth.edu/ruey-s-tsay/teaching\n",
    "\n",
    "Estas series fueron utilizadas en las diferentes ediciones del libro Analysis of Financial Time Series, de Ruey S. Tsay.\n",
    "\n",
    "- Monthly IBM stock, VW index, EW index and S&P index returns: m-ibm3dx2608.csv\n",
    "\n",
    "- Growth rate of U.S. quarterly real gnp: dgnp82.txt\n",
    "\n",
    "- Daily values of S&P 500 index: d-sp55008.csv\n",
    "\n",
    "- Monthly returns of VW index: VW_index_rets.csv\n",
    "\n",
    "- Weekly 1-yr & 3-yr interest rates: w-gs1yr.csv & w-gs3yr.csv\n",
    "\n",
    "- Monthly simple returns of Intel stock: Intel_returns.csv\n",
    "\n",
    "- 10-minute FX log returns (Mark-Dollar): FX_logret_Mark_Dollar.csv\n",
    "\n",
    "- Monthly excess returns of the S&P 500 index: S_P500_index.csv"
   ]
  },
  {
   "cell_type": "code",
   "execution_count": null,
   "metadata": {},
   "outputs": [],
   "source": [
    "rates_1yr = pd.read_csv(\"Data/w-gs1yr.csv\")\n",
    "rates_3yr = pd.read_csv(\"Data/w-gs3yr.csv\")\n",
    "\n",
    "IBM_VW_EW_SyP_index = pd.read_csv(\"Data/m-ibm3dx2608.csv\")\n",
    "IBM_VW_EW_SyP_index['date'] = pd.to_datetime(IBM_VW_EW_SyP_index['date'].astype(str), format ='%Y%m%d' )\n",
    "\n",
    "GNP = pd.read_csv(\"Data/dgnp82.csv\")\n",
    "S_P_index_d = pd.read_csv(\"Data/d-sp55008.csv\")\n",
    "S_P500_index = pd.read_csv(\"Data/S_P500_index.csv\")\n",
    "\n",
    "VW_Index_rets = pd.read_csv(\"Data/VW_Index_rets.csv\")\n",
    "\n",
    "FX_logret_mark_dollar = pd.read_csv(\"Data/FX_logret_Mark_Dollar.csv\")\n",
    "\n",
    "Intel_returns = pd.read_csv(\"Data/Intel_returns.csv\")\n",
    "Intel_returns['date'] = pd.to_datetime(Intel_returns['date'].astype(str), format='%Y%m%d')"
   ]
  },
  {
   "cell_type": "code",
   "execution_count": null,
   "metadata": {},
   "outputs": [],
   "source": [
    "## La siguiente función puede utilizarse para analizar tres gráficos: la serie, la función \n",
    "## autocorrelación y la función de autocorrelación parcial\n",
    "\n",
    "def tsplot(y, lags=None, figsize=(15, 10), style='bmh', titulo = 'Time Series Analysis Plots'):\n",
    "    if not isinstance(y, pd.Series):\n",
    "        y = pd.Series(y)\n",
    "    with plt.style.context(style):    \n",
    "        fig = plt.figure(figsize=figsize)\n",
    "        #mpl.rcParams['font.family'] = 'Ubuntu Mono'\n",
    "        layout = (3, 2)\n",
    "        ts_ax = plt.subplot2grid(layout, (0, 0), colspan=2)\n",
    "        acf_ax = plt.subplot2grid(layout, (1, 0))\n",
    "        pacf_ax = plt.subplot2grid(layout, (1, 1))\n",
    "        qq_ax = plt.subplot2grid(layout, (2, 0))\n",
    "        pp_ax = plt.subplot2grid(layout, (2, 1))\n",
    "        \n",
    "        y.plot(ax=ts_ax)\n",
    "        ts_ax.set_title(titulo)\n",
    "        smt.graphics.plot_acf(y, lags=lags, ax=acf_ax, alpha=0.05)\n",
    "        smt.graphics.plot_pacf(y, lags=lags, ax=pacf_ax, alpha=0.05)\n",
    "        sm.qqplot(y, line='s', ax=qq_ax)\n",
    "        qq_ax.set_title('QQ Plot')        \n",
    "        scs.probplot(y, sparams=(y.mean(), y.std()), plot=pp_ax)\n",
    "\n",
    "        plt.tight_layout()\n",
    "    return "
   ]
  },
  {
   "cell_type": "code",
   "execution_count": null,
   "metadata": {},
   "outputs": [],
   "source": [
    "##Ejemplo\n",
    "\n",
    "precios = mydata[\"Open\"]\n",
    "\n",
    "## log-retornos\n",
    "lrets = np.log(precios/precios.shift(1)).dropna()\n",
    "## retornos\n",
    "rets = ((precios-precios.shift(1))/precios.shift(1)).dropna()\n",
    "\n",
    "\n",
    "fig, [ax1, ax2]= plt.subplots(nrows = 2, ncols = 1, figsize=(15, 10))\n",
    "ax1.plot(precios, color = 'r',label = 'Serie original')\n",
    "ax1.legend(loc = 'best')\n",
    "ax2.plot(lrets, label = 'Serie diferenciada')\n",
    "ax2.legend(loc = 'best')\n",
    "#plt.subplot(3,1,3)\n",
    "#rets.plot()\n",
    "\n",
    "\n",
    "plt.show()"
   ]
  },
  {
   "cell_type": "code",
   "execution_count": null,
   "metadata": {},
   "outputs": [],
   "source": [
    "## Ejemplo\n",
    "plt.figure()\n",
    "smt.graphics.plot_acf(precios,lags=20, title = 'ACF precios')\n",
    "smt.graphics.plot_acf(lrets, lags=20, title = 'ACF retornos')\n",
    "plt.show()"
   ]
  },
  {
   "cell_type": "code",
   "execution_count": null,
   "metadata": {},
   "outputs": [],
   "source": [
    "##Ejemplo: Clusters de volatilidad en tasas de interés a 1 año y 3 años\n",
    "\n",
    "tasas1y = rates_1yr[\"rate\"][1000:]\n",
    "tasas3y = rates_3yr[\"rate\"][1000:]\n",
    "## log-retornos\n",
    "lrets1y = np.log(tasas1y/tasas1y.shift(1)).dropna()\n",
    "lrets3y = np.log(tasas3y/tasas3y.shift(1)).dropna()\n",
    "\n",
    "\n",
    "fig, [ax1, ax2]= plt.subplots(nrows = 2, ncols = 1, figsize=(15, 10))\n",
    "ax1.plot(lrets1y, color = 'r',label = 'Serie rates 1 year')\n",
    "ax1.legend(loc = 'best')\n",
    "ax2.plot(lrets3y, label = 'Serie rates 3 year')\n",
    "ax2.legend(loc = 'best')\n",
    "#plt.subplot(3,1,3)\n",
    "#rets.plot()\n",
    "\n",
    "\n",
    "plt.show()"
   ]
  },
  {
   "cell_type": "code",
   "execution_count": null,
   "metadata": {},
   "outputs": [],
   "source": [
    "import statsmodels\n",
    "statsmodels.tsa.stattools.adfuller(rets)"
   ]
  },
  {
   "cell_type": "code",
   "execution_count": null,
   "metadata": {},
   "outputs": [],
   "source": [
    "tsplot(rets, lags = 30, titulo = \"Retornos NSE/SPYL\")"
   ]
  },
  {
   "cell_type": "markdown",
   "metadata": {},
   "source": [
    "### Ruido blanco\n",
    "Es un proceso $a_t$ con las siguientes propiedades:\n",
    "\n",
    "-- Media $0$: $E[a_t] = 0$.\n",
    "\n",
    "-- Varianza finita: $Var(a_t) = \\sigma_\\epsilon^2<\\infty$. \n",
    "\n",
    "-- Autocovarianzas nulas: $Cov(a_t, a_{t-k})=0$.\n",
    "\n",
    "\n",
    "\n",
    "### Actividad \n",
    "\n",
    "Construir un ruido blanco con varianza:\n",
    "\n",
    "-- $\\sigma_a = 1$\n",
    "\n",
    "-- $\\sigma_a = 0.5$\n",
    "\n",
    "-- $\\sigma_a = 0.01$"
   ]
  },
  {
   "cell_type": "code",
   "execution_count": null,
   "metadata": {},
   "outputs": [],
   "source": [
    "T = 1000\n",
    "\n",
    "B = pd.Series(index=range(T), dtype = 'object')\n",
    "B.name = 'B'\n",
    "\n",
    "for t in range(T):\n",
    "    # Modificar los parámetros de la normal para modificar media y varianza.\n",
    "    # \n",
    "    B[t] = np.random.normal(3,1/3)\n",
    "\n",
    "plt.figure(figsize=(15,5))\n",
    "plt.plot(B)\n",
    "\n",
    "plt.xlabel('Tiempo')\n",
    "plt.ylabel('Valores')\n",
    "plt.legend(['Ruido blanco'])\n",
    "smt.graphics.plot_acf(B, lags = 20)\n",
    "\n",
    "plt.show()"
   ]
  },
  {
   "cell_type": "markdown",
   "metadata": {},
   "source": [
    "## Para las series anteriores analizar la relación entre la media y el comportamiento de la serie."
   ]
  },
  {
   "cell_type": "code",
   "execution_count": null,
   "metadata": {},
   "outputs": [],
   "source": [
    "m = np.mean(B)\n",
    "plt.figure(figsize=(15,7))\n",
    "plt.plot(B)\n",
    "plt.hlines(m, 0, l}en(B), linestyles='dashed', colors='r')\n",
    "plt.xlabel('Tiempo')\n",
    "plt.ylabel('Valores')\n",
    "plt.legend(['Serie B', 'Media'])\n",
    "plt.show()"
   ]
  },
  {
   "cell_type": "markdown",
   "metadata": {},
   "source": [
    "# Caminata Aleatoria"
   ]
  },
  {
   "cell_type": "code",
   "execution_count": null,
   "metadata": {},
   "outputs": [],
   "source": [
    "#np.random.seed(1)\n",
    "T = 100\n",
    "\n",
    "x = w = np.random.normal(0,1,size=T)\n",
    "x[0]= 0\n",
    "for t in range(1,T):\n",
    "    x[t] = x[t-1] + w[t]\n",
    "\n",
    "tsplot(x, lags = 20, titulo = \"Caminata aleatoria\")"
   ]
  },
  {
   "cell_type": "markdown",
   "metadata": {},
   "source": [
    "# Tendencia lineal"
   ]
  },
  {
   "cell_type": "code",
   "execution_count": null,
   "metadata": {},
   "outputs": [],
   "source": [
    "w = np.random.randn(250)\n",
    "x = np.empty_like(w)\n",
    "\n",
    "a0 = 100.\n",
    "a1 = 0.5\n",
    "for t in range(len(w)):\n",
    "    x[t] = a0 + a1*t + w[t]\n",
    "    \n",
    "_ = tsplot(x, lags=30, titulo = \"Tendencia lineal\")  "
   ]
  }
 ],
 "metadata": {
  "kernelspec": {
   "display_name": "Python 3 (ipykernel)",
   "language": "python",
   "name": "python3"
  },
  "language_info": {
   "codemirror_mode": {
    "name": "ipython",
    "version": 3
   },
   "file_extension": ".py",
   "mimetype": "text/x-python",
   "name": "python",
   "nbconvert_exporter": "python",
   "pygments_lexer": "ipython3",
   "version": "3.9.12"
  }
 },
 "nbformat": 4,
 "nbformat_minor": 4
}
