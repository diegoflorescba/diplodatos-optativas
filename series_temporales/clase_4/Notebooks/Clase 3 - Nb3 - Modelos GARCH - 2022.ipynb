{
 "cells": [
  {
   "cell_type": "code",
   "execution_count": null,
   "metadata": {},
   "outputs": [],
   "source": [
    "import pandas as pd\n",
    "import numpy as np\n",
    "\n",
    "from statsmodels.stats.diagnostic import acorr_ljungbox\n",
    "import statsmodels.tsa.api as smt\n",
    "import statsmodels.api as sm\n",
    "import scipy.stats as scs\n",
    "import statsmodels.stats as sms\n",
    "\n",
    "from statsmodels.tsa.ar_model import AutoReg, ar_select_order\n",
    "\n",
    "from arch import arch_model\n",
    "\n",
    "import matplotlib.pyplot as plt\n",
    "import matplotlib as mpl\n",
    "%matplotlib inline\n",
    "\n",
    "import math\n",
    "\n",
    "import quandl\n",
    "quandl.ApiConfig.api_key = \"q2DtgvtfT_ZV2DbsFyCF\""
   ]
  },
  {
   "cell_type": "code",
   "execution_count": null,
   "metadata": {},
   "outputs": [],
   "source": [
    "## La siguiente función puede utilizarse para analizar tres gráficos: la serie, la función \n",
    "## autocorrelación y la función de autocorrelación parcial\n",
    "\n",
    "def tsplot(y, lags=None, figsize=(15, 10), style='bmh', titulo = 'Time Series Analysis Plots'):\n",
    "    if not isinstance(y, pd.Series):\n",
    "        y = pd.Series(y)\n",
    "    with plt.style.context(style):    \n",
    "        fig = plt.figure(figsize=figsize)\n",
    "        #mpl.rcParams['font.family'] = 'Ubuntu Mono'\n",
    "        layout = (3, 2)\n",
    "        ts_ax = plt.subplot2grid(layout, (0, 0), colspan=2)\n",
    "        acf_ax = plt.subplot2grid(layout, (1, 0))\n",
    "        pacf_ax = plt.subplot2grid(layout, (1, 1))\n",
    "        #qq_ax = plt.subplot2grid(layout, (2, 0))\n",
    "        #pp_ax = plt.subplot2grid(layout, (2, 1))\n",
    "        \n",
    "        y.plot(ax=ts_ax)\n",
    "        ts_ax.set_title(titulo)\n",
    "        smt.graphics.plot_acf(y, lags=lags, ax=acf_ax, alpha=0.01)\n",
    "        smt.graphics.plot_pacf(y, lags=lags, ax=pacf_ax, alpha=0.01)\n",
    "        #sm.qqplot(y, line='s', ax=qq_ax)\n",
    "        #qq_ax.set_title('QQ Plot')        \n",
    "        #scs.probplot(y, sparams=(y.mean(), y.std()), plot=pp_ax)\n",
    "\n",
    "        plt.tight_layout()\n",
    "    return "
   ]
  },
  {
   "cell_type": "code",
   "execution_count": null,
   "metadata": {},
   "outputs": [],
   "source": [
    "rates_1yr = pd.read_csv(\"Data/w-gs1yr.csv\")\n",
    "rates_3yr = pd.read_csv(\"Data/w-gs3yr.csv\")\n",
    "\n",
    "IBM_VW_EW_SyP_index = pd.read_csv(\"Data/m-ibm3dx2608.csv\")\n",
    "IBM_VW_EW_SyP_index['date'] = pd.to_datetime(IBM_VW_EW_SyP_index['date'].astype(str), format ='%Y%m%d' )\n",
    "\n",
    "GNP = pd.read_csv(\"Data/dgnp82.csv\")\n",
    "S_P_index_d = pd.read_csv(\"Data/d-sp55008.csv\")\n",
    "S_P500_index = pd.read_csv(\"Data/S_P500_index.csv\")\n",
    "\n",
    "VW_Index_rets = pd.read_csv(\"Data/VW_Index_rets.csv\")\n",
    "\n",
    "FX_logret_mark_dollar = pd.read_csv(\"Data/FX_logret_Mark_Dollar.csv\")\n",
    "\n",
    "Intel_returns = pd.read_csv(\"Data/Intel_returns.csv\")\n",
    "Intel_returns['date'] = pd.to_datetime(Intel_returns['date'].astype(str), format='%Y%m%d')"
   ]
  },
  {
   "cell_type": "markdown",
   "metadata": {},
   "source": [
    "## Heteroscedasticidad Condicional"
   ]
  },
  {
   "cell_type": "code",
   "execution_count": null,
   "metadata": {},
   "outputs": [],
   "source": [
    "# Simulación de un ARCH(1)\n",
    "# Var(yt) = a_0 + a_1*y{t-1}**2\n",
    "# si a_1 está entre 0 y 1 entonces es un ruido blanco.\n",
    "\n",
    "np.random.seed(13)\n",
    "\n",
    "a0 = 2\n",
    "a1 = .5\n",
    "\n",
    "y = w = np.random.normal(size=1000)\n",
    "#Y = np.empty_like(y)\n",
    "\n",
    "for t in range(len(y)):\n",
    "    y[t] = w[t] * np.sqrt((a0 + a1*y[t-1]**2))\n",
    "\n",
    "# un ARCH(1) se asemeja a un ruido blanco\n",
    "tsplot(y, lags=30, titulo = \"ARCH(1)\")"
   ]
  },
  {
   "cell_type": "code",
   "execution_count": null,
   "metadata": {},
   "outputs": [],
   "source": [
    "tsplot(y**2, lags=30, titulo = 'Valores al cuadrado')"
   ]
  },
  {
   "cell_type": "markdown",
   "metadata": {},
   "source": [
    "Notemos que la serie temporal parece ruido blanco, pero para los cuadrados se puede observar una autocorrelación significativa en el lag 1.\n",
    "Así como podemos modelarlo como un AR(p), puede utilizarse un modelo MA(q) o ARMA(p,q), lo cual conduce a los modelos ARCH generalizados, conocidos como GARCH"
   ]
  },
  {
   "cell_type": "markdown",
   "metadata": {},
   "source": [
    "##  Generalized Autoregressive Conditionally Heteroskedastic Models - GARCH(p,q)\n",
    " \n",
    " (Modelos Autorregresivos generalizado condicional heteroscedástico)\n",
    "\n",
    "$$\\sigma_t^2=\\alpha_0+\\sum_{i=1}^{p}\\alpha_i\\epsilon_{t-i}^2+\\sum_{j=1}^{q}\\beta_j\\sigma_{t-j}^2$$\n"
   ]
  },
  {
   "cell_type": "code",
   "execution_count": null,
   "metadata": {},
   "outputs": [],
   "source": [
    "# Simulación de un proceso  GARCH(1, 1)\n",
    "\n",
    "np.random.seed(2)\n",
    "\n",
    "a0 = 0.2\n",
    "a1 = 0.5\n",
    "b1 = 0.3\n",
    "\n",
    "n = 10000\n",
    "w = np.random.normal(size=n)\n",
    "eps = np.zeros_like(w)\n",
    "sigsq = np.zeros_like(w)\n",
    "\n",
    "for i in range(1, n):\n",
    "    sigsq[i] = a0 + a1*(eps[i-1]**2) + b1*sigsq[i-1]\n",
    "    eps[i] = w[i] * np.sqrt(sigsq[i])\n",
    "\n",
    "_ = tsplot(eps, lags=30, titulo = \"GARCH(1,1)\")\n",
    "#_ = tsplot(eps ** 2, lags=30, titulo = \"GARCH(1,1) al cuadrado\")"
   ]
  },
  {
   "cell_type": "code",
   "execution_count": null,
   "metadata": {},
   "outputs": [],
   "source": [
    "am = arch_model(eps)\n",
    "res = am.fit(update_freq=5)\n",
    "print(res.summary())"
   ]
  },
  {
   "cell_type": "markdown",
   "metadata": {},
   "source": [
    "Retomamos de la Notebook Nb 2 el caso de la serie S_p500_index. \n"
   ]
  },
  {
   "cell_type": "code",
   "execution_count": null,
   "metadata": {},
   "outputs": [],
   "source": [
    "data = S_P500_index[\"Monthly excess returns\"]\n",
    "mdl = sm.tsa.arima.ARIMA(data, order = (3,0,0))\n",
    "res = mdl.fit()\n",
    "print(res.summary())\n"
   ]
  },
  {
   "cell_type": "code",
   "execution_count": null,
   "metadata": {},
   "outputs": [],
   "source": []
  },
  {
   "cell_type": "code",
   "execution_count": null,
   "metadata": {},
   "outputs": [],
   "source": [
    "sel = ar_select_order(data, 8, glob=True, old_names=False)\n",
    "sel.ar_lags\n",
    "res = sel.model.fit()\n",
    "print(res.summary())"
   ]
  },
  {
   "cell_type": "code",
   "execution_count": null,
   "metadata": {},
   "outputs": [],
   "source": [
    "tsplot(res.resid ** 2, lags=30, titulo = \"residuos\")"
   ]
  },
  {
   "cell_type": "code",
   "execution_count": null,
   "metadata": {},
   "outputs": [],
   "source": [
    "am = arch_model(res.resid, rescale = False)\n",
    "res = am.fit(update_freq=10)\n",
    "print(res.summary())"
   ]
  },
  {
   "cell_type": "code",
   "execution_count": null,
   "metadata": {},
   "outputs": [],
   "source": []
  },
  {
   "cell_type": "code",
   "execution_count": null,
   "metadata": {},
   "outputs": [],
   "source": [
    "### Posible modelo AR(3) + GARCH(1,1)\n",
    "\n",
    "np.random.seed(2)\n",
    "\n",
    "a0 = 0.2\n",
    "a1 = 0.1698\n",
    "b1 = 0.8132\n",
    "\n",
    "n = len(data)\n",
    "\n",
    "\n",
    "w = np.random.normal(size=n, loc = 0.0, scale = 1.0/10.)\n",
    "eps = np.zeros_like(w)\n",
    "sigsq = np.zeros_like(w)\n",
    "#eps = np.random.normal(size=n)\n",
    "#sigsq = np.random.normal(size=n)\n",
    "\n",
    "for i in range(1, n):\n",
    "    sigsq[i] = a0 + a1*(eps[i-1]**2) + b1*sigsq[i-1]\n",
    "    eps[i] = w[i] * math.sqrt(sigsq[i])\n",
    "\n",
    "x = np.zeros(len(data))\n",
    "x[0] = data[0]\n",
    "x[1] = data[1]\n",
    "x[2] = data[2]\n",
    "for i in range(2, n):\n",
    "    x[i] = 0.0062 + 0.0891 * x[i-1] - 0.0237*x[i-2] - 0.1228 * x[i-3]  + eps[i]\n"
   ]
  },
  {
   "cell_type": "code",
   "execution_count": null,
   "metadata": {},
   "outputs": [],
   "source": []
  }
 ],
 "metadata": {
  "kernelspec": {
   "display_name": "Python 3",
   "language": "python",
   "name": "python3"
  },
  "language_info": {
   "codemirror_mode": {
    "name": "ipython",
    "version": 3
   },
   "file_extension": ".py",
   "mimetype": "text/x-python",
   "name": "python",
   "nbconvert_exporter": "python",
   "pygments_lexer": "ipython3",
   "version": "3.8.5"
  }
 },
 "nbformat": 4,
 "nbformat_minor": 4
}
